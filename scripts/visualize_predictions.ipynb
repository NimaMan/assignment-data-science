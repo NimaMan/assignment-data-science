{
 "cells": [
  {
   "cell_type": "code",
   "execution_count": null,
   "metadata": {},
   "outputs": [],
   "source": [
    "\n",
    "\n",
    "import pmdarima as pm\n",
    "from pmdarima.model_selection import train_test_split\n"
   ]
  },
  {
   "cell_type": "code",
   "execution_count": null,
   "metadata": {},
   "outputs": [],
   "source": [
    "train, test = train_test_split(means, train_size=.8)\n",
    "# Fit your model\n",
    "model = pm.auto_arima(train, seasonal=True, m=12, trace=True, n_jobs=-1, alpha=0.1, )\n"
   ]
  },
  {
   "cell_type": "code",
   "execution_count": null,
   "metadata": {},
   "outputs": [],
   "source": [
    "num_train_lags = 40\n",
    "test_indices = np.arange(num_train_lags, num_train_lags+24)\n",
    "plt.plot(train[len(train)-num_train_lags: len(train)], c='blue')\n",
    "plt.plot(test_indices, forecasts[0], c='green', label=\"Forecasted\")\n",
    "plt.plot(test_indices, test[:24], c='red', label=\"Realized\")\n",
    "plt.fill_between(test_indices,\n",
    "                     confidence_intervals[0][:, 0], confidence_intervals[0][:, 1],\n",
    "                     alpha=0.5, color='orange',\n",
    "                     label=\"Confidence Intervals\")\n",
    "plt.show()"
   ]
  },
  {
   "cell_type": "code",
   "execution_count": null,
   "metadata": {},
   "outputs": [],
   "source": []
  },
  {
   "cell_type": "code",
   "execution_count": null,
   "metadata": {},
   "outputs": [],
   "source": []
  },
  {
   "cell_type": "code",
   "execution_count": null,
   "metadata": {},
   "outputs": [],
   "source": []
  }
 ],
 "metadata": {
  "interpreter": {
   "hash": "8e0c2abd55db4804a586c2d486c80344962e2bf4c7eeb7a57e43fb27ae199b95"
  },
  "kernelspec": {
   "display_name": "Python 3.8.8 64-bit ('p8': conda)",
   "language": "python",
   "name": "python3"
  },
  "language_info": {
   "codemirror_mode": {
    "name": "ipython",
    "version": 3
   },
   "file_extension": ".py",
   "mimetype": "text/x-python",
   "name": "python",
   "nbconvert_exporter": "python",
   "pygments_lexer": "ipython3",
   "version": "3.8.8"
  },
  "orig_nbformat": 4
 },
 "nbformat": 4,
 "nbformat_minor": 2
}
